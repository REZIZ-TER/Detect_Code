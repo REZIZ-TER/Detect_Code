{
  "cells": [
    {
      "cell_type": "markdown",
      "metadata": {
        "id": "JuH0wFDMOgxN"
      },
      "source": [
        "# Installation"
      ]
    },
    {
      "cell_type": "code",
      "execution_count": null,
      "metadata": {
        "colab": {
          "base_uri": "https://localhost:8080/"
        },
        "id": "_KDZrcbFNopJ",
        "outputId": "425cff99-f5ec-4ba3-e7d0-49cba7055afd"
      },
      "outputs": [],
      "source": [
        "from google.colab import drive\n",
        "drive.mount('/content/drive/')"
      ]
    },
    {
      "cell_type": "code",
      "execution_count": null,
      "metadata": {
        "id": "C1QHAqfnjKVj"
      },
      "outputs": [],
      "source": [
        "import locale\n",
        "locale.getpreferredencoding = lambda: \"UTF-8\""
      ]
    },
    {
      "cell_type": "code",
      "execution_count": null,
      "metadata": {
        "id": "LV4uvjimDTOh"
      },
      "outputs": [],
      "source": [
        "%pip install onnx\n",
        "#%pip install onnxruntime\n",
        "#%pip install onnxruntime-training\n",
        "%pip install ultralytics\n",
        "%pip install torch\n",
        "%pip install roboflow"
      ]
    },
    {
      "cell_type": "markdown",
      "metadata": {
        "id": "4RBaIEDsOdyI"
      },
      "source": [
        "# Git Clone"
      ]
    },
    {
      "cell_type": "code",
      "execution_count": null,
      "metadata": {
        "id": "I6nZ0EIUCDlm"
      },
      "outputs": [],
      "source": []
    },
    {
      "cell_type": "code",
      "execution_count": null,
      "metadata": {
        "colab": {
          "base_uri": "https://localhost:8080/"
        },
        "id": "2K8IpLVPXbA8",
        "outputId": "a7f02f1b-240e-4b00-ba3d-2f1e5621e7f0"
      },
      "outputs": [],
      "source": [
        "!pip install roboflow\n",
        "\n",
        "from roboflow import Roboflow\n",
        "rf = Roboflow(api_key=\"4RVq4o5W9hxfxscEyTFv\")\n",
        "project = rf.workspace(\"natthakorn\").project(\"new_helmetdetection\")\n",
        "version = project.version(9)\n",
        "dataset = version.download(\"yolov8\")"
      ]
    },
    {
      "cell_type": "code",
      "execution_count": null,
      "metadata": {
        "colab": {
          "base_uri": "https://localhost:8080/"
        },
        "id": "J9ep6qPGD7SU",
        "outputId": "7c7bb19a-bc45-4a13-9398-4774190fb27f"
      },
      "outputs": [],
      "source": [
        "%cd /content\n",
        "!git clone https://github.com/ultralytics/ultralytics.git"
      ]
    },
    {
      "cell_type": "code",
      "execution_count": null,
      "metadata": {
        "colab": {
          "base_uri": "https://localhost:8080/"
        },
        "id": "6VJ5ow1wcNFn",
        "outputId": "e44d2d36-d4df-420c-a52f-a490b2a37256"
      },
      "outputs": [],
      "source": [
        "import torch\n",
        "import subprocess\n",
        "def check_gpu_usage():\n",
        "    process = subprocess.Popen([\"nvidia-smi\"], stdout=subprocess.PIPE)\n",
        "    output, err = process.communicate()\n",
        "    return output\n",
        "\n",
        "print(check_gpu_usage())\n",
        "torch.cuda.empty_cache()\n",
        "print(check_gpu_usage())"
      ]
    },
    {
      "cell_type": "markdown",
      "metadata": {
        "id": "H3hV2ut4N-Cg"
      },
      "source": [
        "\n",
        "\n",
        "# Train\n",
        "\n"
      ]
    },
    {
      "cell_type": "code",
      "execution_count": null,
      "metadata": {
        "id": "rttv_e5fEXdl"
      },
      "outputs": [],
      "source": [
        "from ultralytics import YOLO\n",
        "import subprocess\n",
        "import torch\n",
        "\n",
        "torch.cuda.set_per_process_memory_fraction(0.87)\n",
        "torch.cuda.empty_cache()\n",
        "\n",
        "def check_gpu_usage():\n",
        "    process = subprocess.Popen([\"nvidia-smi\"], stdout=subprocess.PIPE)\n",
        "    output, err = process.communicate()\n",
        "    return output\n",
        "\n",
        "print(check_gpu_usage())\n",
        "\n",
        "#model = YOLO('yolov8m.yaml')\n",
        "model = YOLO('yolov8m.pt')\n",
        "\n",
        "\n",
        "path = \"New_HelmetDetection-9\\data.yaml\"\n",
        "#parameter\n",
        "myoptimizer = 'RAdam' #SGD, Adam, AdamW, NAdam, RAdam, RMSProp\n",
        "\n",
        "results = model.train(data=path, time=12, batch=-1, imgsz=640, cos_lr=True, plots=True, verbose=True, optimizer=myoptimizer)\n",
        "#saveperiod = 5 for size=1920 and 20 for size=640 #cos_lr=True\n",
        "\n",
        "torch.cuda.empty_cache()\n",
        "\n",
        "results = model.val()\n",
        "\n",
        "success = model.export(format='onnx')\n",
        "\n",
        "# source_path = '/content/runs/detect/train'\n",
        "# destination_path = '/content/drive/MyDrive/1_Yolov8_Projext/_Weight_/2024-03-31/01'\n",
        "# shutil.copytree(source_path, destination_path)"
      ]
    },
    {
      "cell_type": "code",
      "execution_count": null,
      "metadata": {
        "id": "GS8P5Fp-Pkbq"
      },
      "outputs": [],
      "source": [
        "from ultralytics import YOLO\n",
        "\n",
        "model = YOLO('yolov8n.yaml')\n",
        "model = YOLO('yolov8n.pt')\n",
        "\n",
        "path = '/content/Helmet_01-3/data.yaml'\n",
        "results = model.train(data=path, epochs=100, batch=-1 , imgsz=640, save_period = 20, lr0=0.001) #0.001\n",
        "\n",
        "results = model.val()"
      ]
    },
    {
      "cell_type": "markdown",
      "metadata": {
        "id": "Z2QjtSglOJ-7"
      },
      "source": [
        "# Prediction"
      ]
    },
    {
      "cell_type": "code",
      "execution_count": null,
      "metadata": {
        "id": "gpwtScACOcf3"
      },
      "outputs": [],
      "source": [
        "!pip install ultralytics\n",
        "!pip install onnxruntime\n",
        "!pip install onnx"
      ]
    },
    {
      "cell_type": "code",
      "execution_count": null,
      "metadata": {
        "id": "FD-vpfJsEXvc"
      },
      "outputs": [],
      "source": [
        "from ultralytics import YOLO\n",
        "\n",
        "pathv2 = '/content/drive/MyDrive/1_Yolov8_Pjct/_Weight_/weights/best.onnx'\n",
        "model = YOLO(pathv2)\n",
        "\n",
        "model.predict('/content/drive/MyDrive/1_Yolov8_Pjct/ImagesForTest',\n",
        "              save=True,\n",
        "              conf=0.5)"
      ]
    },
    {
      "cell_type": "markdown",
      "metadata": {
        "id": "tjnfQsi7OSJS"
      },
      "source": [
        "# Train ต่อจากเดิม"
      ]
    },
    {
      "cell_type": "markdown",
      "metadata": {
        "id": "6zxQDSekOWe_"
      },
      "source": [
        "**1**"
      ]
    },
    {
      "cell_type": "code",
      "execution_count": null,
      "metadata": {
        "colab": {
          "base_uri": "https://localhost:8080/",
          "height": 1000
        },
        "id": "mf_kJQBp1CzD",
        "outputId": "5737e609-a06f-47da-e292-0bfe5171f886"
      },
      "outputs": [],
      "source": [
        "#Train ต่อจากของเดิม\n",
        "\n",
        "from ultralytics import YOLO\n",
        "import subprocess\n",
        "import torch\n",
        "import os\n",
        "import shutil\n",
        "\n",
        "def check_gpu_usage():\n",
        "    process = subprocess.Popen([\"nvidia-smi\"], stdout=subprocess.PIPE)\n",
        "    output, err = process.communicate()\n",
        "    return output\n",
        "\n",
        "print(check_gpu_usage())\n",
        "\n",
        "\n",
        "path_pretrain = '/content/epoch40.pt'\n",
        "model = YOLO(path_pretrain)\n",
        "\n",
        "torch.cuda.empty_cache()\n",
        "torch.cuda.set_per_process_memory_fraction(0.85)\n",
        "\n",
        "path = '/content/New_HelmetDetection-9/data.yaml'\n",
        "results = model.train(data=path ,batch=-1, imgsz=640, save=True, save_period = 10,\n",
        "                      resume=True)\n",
        "\n",
        "torch.cuda.empty_cache()\n",
        "\n",
        "results = model.val()\n",
        "\n",
        "success = model.export(format='onnx')\n",
        "\n",
        "source_path = '/content/runs/detect/train'\n",
        "destination_path = '/content/drive/MyDrive/1_Yolov8_Projext/_Weight_/2024-04-03'\n",
        "shutil.copytree(source_path, destination_path)"
      ]
    },
    {
      "cell_type": "markdown",
      "metadata": {
        "id": "RxDcnJJE2jjj"
      },
      "source": [
        "# ย้ายไฟล์ไปยัง Google Drive"
      ]
    },
    {
      "cell_type": "code",
      "execution_count": null,
      "metadata": {
        "colab": {
          "base_uri": "https://localhost:8080/",
          "height": 321
        },
        "id": "mP52UZnM2MeA",
        "outputId": "e373e8c9-b951-4c6f-bb07-63b50d2c2a87"
      },
      "outputs": [],
      "source": [
        "import shutil\n",
        "# ค้นหาเส้นทางของโฟลเดอร์ต้นทาง\n",
        "source_path = '/content/New_HelmetDetection-7/train'\n",
        "\n",
        "# สร้างเส้นทางของโฟลเดอร์ปลายทาง\n",
        "destination_path = '/content/drive/MyDrive/1_Yolov8_Projext/dataset'\n",
        "\n",
        "# คัดลอกโฟลเดอร์ไปยังโฟลเดอร์ปลายทาง\n",
        "shutil.copytree(source_path, destination_path)"
      ]
    }
  ],
  "metadata": {
    "accelerator": "GPU",
    "colab": {
      "gpuType": "T4",
      "provenance": []
    },
    "kernelspec": {
      "display_name": "Python 3",
      "name": "python3"
    },
    "language_info": {
      "codemirror_mode": {
        "name": "ipython",
        "version": 3
      },
      "file_extension": ".py",
      "mimetype": "text/x-python",
      "name": "python",
      "nbconvert_exporter": "python",
      "pygments_lexer": "ipython3",
      "version": "3.11.5"
    }
  },
  "nbformat": 4,
  "nbformat_minor": 0
}
